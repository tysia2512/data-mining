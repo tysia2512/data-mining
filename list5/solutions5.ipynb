{
 "cells": [
  {
   "cell_type": "markdown",
   "metadata": {},
   "source": [
    "## Zadanie 0"
   ]
  },
  {
   "cell_type": "code",
   "execution_count": 1,
   "metadata": {},
   "outputs": [],
   "source": [
    "import numpy as np\n",
    "from sklearn import datasets\n",
    "from scipy.stats import mode\n",
    "import scipy as sp\n",
    "from random import shuffle\n",
    "\n",
    "def dist(x, y):\n",
    "    return np.sqrt(((x-y).T).dot (x-y))\n",
    "\n",
    "def knn(query, data, labels, k):\n",
    "    dists = sp.spatial.distance.cdist(query, data, 'euclidean')\n",
    "#     dists = map(lambda d: (dist(query, d[0]), d[1]), data)\n",
    "    nearest = np.argsort(dists)\n",
    "    labels = labels[nearest].T\n",
    "    result = sp.stats.mode(labels[:k, :])\n",
    "    return result[0]\n",
    "\n",
    "def correctness(teach, teach_labels, test, test_labels, k):\n",
    "    results = knn(test, teach, teach_labels, k)\n",
    "    correct = np.sum(results == test_labels)\n",
    "    correctness = 100.0 * correct / (test.shape[0])\n",
    "    return correctness\n",
    "\n",
    "def check_knn(data, teach_on, k=5):\n",
    "    # shuffle data\n",
    "    shuffle(data)\n",
    "    data = np.array(data)\n",
    "    # split to teaching and testing sets\n",
    "    query = data[teach_on:, 0]\n",
    "    query_labels = data[teach_on:, 1]\n",
    "    query = np.concatenate(query).reshape((query.shape[0], -1))\n",
    "    teach = data[:teach_on, 0]\n",
    "    teach_labels = data[:teach_on, 1]\n",
    "    teach = np.concatenate(teach).reshape((teach.shape[0], -1))\n",
    "    # count knn and check results\n",
    "    crr = correctness(teach, teach_labels, query, query_labels, k)\n",
    "    print('Algorithm trained on {} samples with k={} is {}% correct'.format(teach_on, k, crr))\n",
    "    \n",
    "def cross_validation(data, parts, k=5):\n",
    "    shuffle(data)\n",
    "    data = np.array(data)\n",
    "    chunk_size = data.shape[0] / parts\n",
    "    split_data = []\n",
    "    for p in np.arange(parts - 1):\n",
    "        split_data.append(data[p * chunk_size:(p+1) * chunk_size])\n",
    "    split_data.append(data[(parts - 1) * chunk_size:])\n",
    "    split_data = np.array(split_data)\n",
    "    corr = 0.0\n",
    "    for i in np.arange(parts):\n",
    "        test = split_data[i][:, 0]\n",
    "        test_labels = split_data[i][:, 1]\n",
    "        teach = np.concatenate(split_data[np.arange(parts)!=i])\n",
    "        teach_labels = teach[:, 1]\n",
    "        teach = teach[:, 0]\n",
    "        teach = np.concatenate(teach).reshape((teach.shape[0], -1))\n",
    "        test = np.concatenate(test).reshape((test.shape[0], -1))\n",
    "        \n",
    "        c = correctness(teach, teach_labels, test, test_labels, k)\n",
    "        print('Algorithm tested on {}th part  is {}% correct'.format(i, c))       \n",
    "        corr += c\n",
    "    print('Average correctness of algorithm for cross validation is {}%'.format(corr / parts))\n",
    "#         print(test_labels)"
   ]
  },
  {
   "cell_type": "code",
   "execution_count": 2,
   "metadata": {},
   "outputs": [
    {
     "name": "stdout",
     "output_type": "stream",
     "text": [
      "Algorithm trained on 100 samples with k=5 is 96.0% correct\n",
      "Algorithm trained on 100 samples with k=5 is 96.0% correct\n",
      "Algorithm trained on 100 samples with k=5 is 92.0% correct\n",
      "Algorithm trained on 100 samples with k=5 is 98.0% correct\n",
      "Algorithm trained on 100 samples with k=5 is 96.0% correct\n",
      "Algorithm tested on 0th part  is 100.0% correct\n",
      "Algorithm tested on 1th part  is 93.3333333333% correct\n",
      "Algorithm tested on 2th part  is 100.0% correct\n",
      "Algorithm tested on 3th part  is 100.0% correct\n",
      "Algorithm tested on 4th part  is 100.0% correct\n",
      "Algorithm tested on 5th part  is 86.6666666667% correct\n",
      "Algorithm tested on 6th part  is 100.0% correct\n",
      "Algorithm tested on 7th part  is 93.3333333333% correct\n",
      "Algorithm tested on 8th part  is 100.0% correct\n",
      "Algorithm tested on 9th part  is 100.0% correct\n",
      "Average correctness of algorithm for cross validation is 97.3333333333%\n"
     ]
    }
   ],
   "source": [
    "#### knn on iris ####\n",
    "iris = datasets.load_iris() \n",
    "data = []\n",
    "targets = iris.target\n",
    "for i in range(0, len(iris.data)):\n",
    "    data.append((iris.data[i], targets[i]))\n",
    "    \n",
    "## run knn ##\n",
    "for i in np.arange(5):\n",
    "    check_knn(data, 100)\n",
    "    \n",
    "## run cross validation ##\n",
    "cross_validation(data, 10)"
   ]
  },
  {
   "cell_type": "code",
   "execution_count": 3,
   "metadata": {},
   "outputs": [
    {
     "name": "stdout",
     "output_type": "stream",
     "text": [
      "Algorithm trained on 3000 samples with k=5 is 98.0558930741% correct\n",
      "Algorithm trained on 3000 samples with k=10 is 98.177399757% correct\n",
      "Algorithm trained on 3000 samples with k=15 is 96.8408262454% correct\n",
      "Algorithm tested on 0th part  is 98.6910994764% correct\n",
      "Algorithm tested on 1th part  is 99.2146596859% correct\n",
      "Algorithm tested on 2th part  is 98.6910994764% correct\n",
      "Algorithm tested on 3th part  is 99.4764397906% correct\n",
      "Algorithm tested on 4th part  is 97.9057591623% correct\n",
      "Algorithm tested on 5th part  is 97.1204188482% correct\n",
      "Algorithm tested on 6th part  is 99.2146596859% correct\n",
      "Algorithm tested on 7th part  is 98.4293193717% correct\n",
      "Algorithm tested on 8th part  is 98.4293193717% correct\n",
      "Algorithm tested on 9th part  is 98.1818181818% correct\n",
      "Average correctness of algorithm for cross validation is 98.5354593051%\n"
     ]
    }
   ],
   "source": [
    "#### knn on handwritten (preprocessed) ####\n",
    "import csv\n",
    "def read_handwritten(filename):\n",
    "    with open(filename, 'r') as f:\n",
    "        data = np.genfromtxt(filename, delimiter=',')\n",
    "    labels = data[:, -1]\n",
    "    data = data[:, :-1]\n",
    "    return data, labels\n",
    "handwritten_data = read_handwritten('/home/ruda/workspace/school/eksplo/list5/optdigits.tra')\n",
    "data = []\n",
    "for i in np.arange(handwritten_data[0].shape[0]):\n",
    "    data.append((handwritten_data[0][i], handwritten_data[1][i]))\n",
    "# print(data)\n",
    "for k in (5, 10, 15):\n",
    "    check_knn(data, 3000, k)\n",
    "    \n",
    "## run cross validation ##\n",
    "cross_validation(data, 10)"
   ]
  },
  {
   "cell_type": "markdown",
   "metadata": {},
   "source": [
    "## Skrypt z zajęć:"
   ]
  },
  {
   "cell_type": "code",
   "execution_count": 19,
   "metadata": {},
   "outputs": [
    {
     "data": {
      "text/plain": [
       "1.0"
      ]
     },
     "execution_count": 19,
     "metadata": {},
     "output_type": "execute_result"
    }
   ],
   "source": [
    "import numpy as np\n",
    "import matplotlib.pyplot as plt\n",
    "import pandas as pd\n",
    "\n",
    "from sklearn import tree\n",
    "from sklearn import datasets\n",
    "# stworzenie drzewa klasyfikacyjnego\n",
    "iris = datasets.load_iris()\n",
    "\n",
    "\n",
    "# rozbicie zestawu danych na dane opisujące kwiat (X) i etykietę klasy (y)\n",
    "y = data['species']\n",
    "X = data.drop('species', axis = 1)\n",
    "\n",
    "# stworzenie drzewa klasyfikacyjnego\n",
    "t = tree.DecisionTreeClassifier()\n",
    "t = t.fit(X, y)\n",
    "          \n",
    "# zapisanie drzewa klasyfikacyjnego do pliku .dot\n",
    "# plik ten można przekształcić do pliku .pdf za pomocą programu graphviz używając polecenia:\n",
    "#   dot -Tpdf iris.dot -o iris.pdf\n",
    "\n",
    "with open(\"/home/ruda/workspace/school/eksplo/list5/iris.dot\", \"w\") as f:\n",
    "    tree.export_graphviz(t, out_file=f, feature_names=X.columns)\n",
    "    \n",
    "# ocena stworzonego klasyfikatora na danych uczących\n",
    "t.score(X, y)"
   ]
  },
  {
   "cell_type": "markdown",
   "metadata": {},
   "source": [
    "## Zadanie 1"
   ]
  },
  {
   "cell_type": "code",
   "execution_count": 33,
   "metadata": {
    "scrolled": false
   },
   "outputs": [
    {
     "data": {
      "image/svg+xml": [
       "<?xml version=\"1.0\" encoding=\"UTF-8\" standalone=\"no\"?>\n",
       "<!DOCTYPE svg PUBLIC \"-//W3C//DTD SVG 1.1//EN\"\n",
       " \"http://www.w3.org/Graphics/SVG/1.1/DTD/svg11.dtd\">\n",
       "<!-- Generated by graphviz version 2.38.0 (20140413.2041)\n",
       " -->\n",
       "<!-- Title: Tree Pages: 1 -->\n",
       "<svg width=\"828pt\" height=\"581pt\"\n",
       " viewBox=\"0.00 0.00 828.00 581.00\" xmlns=\"http://www.w3.org/2000/svg\" xmlns:xlink=\"http://www.w3.org/1999/xlink\">\n",
       "<g id=\"graph0\" class=\"graph\" transform=\"scale(1 1) rotate(0) translate(4 577)\">\n",
       "<title>Tree</title>\n",
       "<polygon fill=\"white\" stroke=\"none\" points=\"-4,4 -4,-577 824,-577 824,4 -4,4\"/>\n",
       "<!-- 0 -->\n",
       "<g id=\"node1\" class=\"node\"><title>0</title>\n",
       "<polygon fill=\"none\" stroke=\"black\" points=\"504.5,-573 346.5,-573 346.5,-505 504.5,-505 504.5,-573\"/>\n",
       "<text text-anchor=\"middle\" x=\"425.5\" y=\"-557.8\" font-family=\"Times,serif\" font-size=\"14.00\">petal length (cm) &lt;= 2.45</text>\n",
       "<text text-anchor=\"middle\" x=\"425.5\" y=\"-542.8\" font-family=\"Times,serif\" font-size=\"14.00\">gini = 0.667</text>\n",
       "<text text-anchor=\"middle\" x=\"425.5\" y=\"-527.8\" font-family=\"Times,serif\" font-size=\"14.00\">samples = 150</text>\n",
       "<text text-anchor=\"middle\" x=\"425.5\" y=\"-512.8\" font-family=\"Times,serif\" font-size=\"14.00\">value = [50, 50, 50]</text>\n",
       "</g>\n",
       "<!-- 1 -->\n",
       "<g id=\"node2\" class=\"node\"><title>1</title>\n",
       "<polygon fill=\"none\" stroke=\"black\" points=\"406,-461.5 293,-461.5 293,-408.5 406,-408.5 406,-461.5\"/>\n",
       "<text text-anchor=\"middle\" x=\"349.5\" y=\"-446.3\" font-family=\"Times,serif\" font-size=\"14.00\">gini = 0.0</text>\n",
       "<text text-anchor=\"middle\" x=\"349.5\" y=\"-431.3\" font-family=\"Times,serif\" font-size=\"14.00\">samples = 50</text>\n",
       "<text text-anchor=\"middle\" x=\"349.5\" y=\"-416.3\" font-family=\"Times,serif\" font-size=\"14.00\">value = [50, 0, 0]</text>\n",
       "</g>\n",
       "<!-- 0&#45;&gt;1 -->\n",
       "<g id=\"edge1\" class=\"edge\"><title>0&#45;&gt;1</title>\n",
       "<path fill=\"none\" stroke=\"black\" d=\"M400.825,-504.884C392.467,-493.666 383.123,-481.126 374.723,-469.852\"/>\n",
       "<polygon fill=\"black\" stroke=\"black\" points=\"377.296,-467.448 368.515,-461.52 371.683,-471.63 377.296,-467.448\"/>\n",
       "<text text-anchor=\"middle\" x=\"364.902\" y=\"-482.557\" font-family=\"Times,serif\" font-size=\"14.00\">True</text>\n",
       "</g>\n",
       "<!-- 2 -->\n",
       "<g id=\"node3\" class=\"node\"><title>2</title>\n",
       "<polygon fill=\"none\" stroke=\"black\" points=\"579,-469 424,-469 424,-401 579,-401 579,-469\"/>\n",
       "<text text-anchor=\"middle\" x=\"501.5\" y=\"-453.8\" font-family=\"Times,serif\" font-size=\"14.00\">petal width (cm) &lt;= 1.75</text>\n",
       "<text text-anchor=\"middle\" x=\"501.5\" y=\"-438.8\" font-family=\"Times,serif\" font-size=\"14.00\">gini = 0.5</text>\n",
       "<text text-anchor=\"middle\" x=\"501.5\" y=\"-423.8\" font-family=\"Times,serif\" font-size=\"14.00\">samples = 100</text>\n",
       "<text text-anchor=\"middle\" x=\"501.5\" y=\"-408.8\" font-family=\"Times,serif\" font-size=\"14.00\">value = [0, 50, 50]</text>\n",
       "</g>\n",
       "<!-- 0&#45;&gt;2 -->\n",
       "<g id=\"edge2\" class=\"edge\"><title>0&#45;&gt;2</title>\n",
       "<path fill=\"none\" stroke=\"black\" d=\"M450.175,-504.884C456.679,-496.154 463.78,-486.625 470.568,-477.514\"/>\n",
       "<polygon fill=\"black\" stroke=\"black\" points=\"473.52,-479.409 476.689,-469.299 467.907,-475.227 473.52,-479.409\"/>\n",
       "<text text-anchor=\"middle\" x=\"480.302\" y=\"-490.337\" font-family=\"Times,serif\" font-size=\"14.00\">False</text>\n",
       "</g>\n",
       "<!-- 3 -->\n",
       "<g id=\"node4\" class=\"node\"><title>3</title>\n",
       "<polygon fill=\"none\" stroke=\"black\" points=\"474.5,-365 316.5,-365 316.5,-297 474.5,-297 474.5,-365\"/>\n",
       "<text text-anchor=\"middle\" x=\"395.5\" y=\"-349.8\" font-family=\"Times,serif\" font-size=\"14.00\">petal length (cm) &lt;= 4.95</text>\n",
       "<text text-anchor=\"middle\" x=\"395.5\" y=\"-334.8\" font-family=\"Times,serif\" font-size=\"14.00\">gini = 0.168</text>\n",
       "<text text-anchor=\"middle\" x=\"395.5\" y=\"-319.8\" font-family=\"Times,serif\" font-size=\"14.00\">samples = 54</text>\n",
       "<text text-anchor=\"middle\" x=\"395.5\" y=\"-304.8\" font-family=\"Times,serif\" font-size=\"14.00\">value = [0, 49, 5]</text>\n",
       "</g>\n",
       "<!-- 2&#45;&gt;3 -->\n",
       "<g id=\"edge3\" class=\"edge\"><title>2&#45;&gt;3</title>\n",
       "<path fill=\"none\" stroke=\"black\" d=\"M467.085,-400.884C457.643,-391.798 447.3,-381.845 437.485,-372.4\"/>\n",
       "<polygon fill=\"black\" stroke=\"black\" points=\"439.738,-369.711 430.105,-365.299 434.884,-374.755 439.738,-369.711\"/>\n",
       "</g>\n",
       "<!-- 12 -->\n",
       "<g id=\"node13\" class=\"node\"><title>12</title>\n",
       "<polygon fill=\"none\" stroke=\"black\" points=\"687.5,-365 529.5,-365 529.5,-297 687.5,-297 687.5,-365\"/>\n",
       "<text text-anchor=\"middle\" x=\"608.5\" y=\"-349.8\" font-family=\"Times,serif\" font-size=\"14.00\">petal length (cm) &lt;= 4.85</text>\n",
       "<text text-anchor=\"middle\" x=\"608.5\" y=\"-334.8\" font-family=\"Times,serif\" font-size=\"14.00\">gini = 0.043</text>\n",
       "<text text-anchor=\"middle\" x=\"608.5\" y=\"-319.8\" font-family=\"Times,serif\" font-size=\"14.00\">samples = 46</text>\n",
       "<text text-anchor=\"middle\" x=\"608.5\" y=\"-304.8\" font-family=\"Times,serif\" font-size=\"14.00\">value = [0, 1, 45]</text>\n",
       "</g>\n",
       "<!-- 2&#45;&gt;12 -->\n",
       "<g id=\"edge12\" class=\"edge\"><title>2&#45;&gt;12</title>\n",
       "<path fill=\"none\" stroke=\"black\" d=\"M536.24,-400.884C545.771,-391.798 556.211,-381.845 566.119,-372.4\"/>\n",
       "<polygon fill=\"black\" stroke=\"black\" points=\"568.745,-374.733 573.568,-365.299 563.915,-369.666 568.745,-374.733\"/>\n",
       "</g>\n",
       "<!-- 4 -->\n",
       "<g id=\"node5\" class=\"node\"><title>4</title>\n",
       "<polygon fill=\"none\" stroke=\"black\" points=\"262,-261 107,-261 107,-193 262,-193 262,-261\"/>\n",
       "<text text-anchor=\"middle\" x=\"184.5\" y=\"-245.8\" font-family=\"Times,serif\" font-size=\"14.00\">petal width (cm) &lt;= 1.65</text>\n",
       "<text text-anchor=\"middle\" x=\"184.5\" y=\"-230.8\" font-family=\"Times,serif\" font-size=\"14.00\">gini = 0.041</text>\n",
       "<text text-anchor=\"middle\" x=\"184.5\" y=\"-215.8\" font-family=\"Times,serif\" font-size=\"14.00\">samples = 48</text>\n",
       "<text text-anchor=\"middle\" x=\"184.5\" y=\"-200.8\" font-family=\"Times,serif\" font-size=\"14.00\">value = [0, 47, 1]</text>\n",
       "</g>\n",
       "<!-- 3&#45;&gt;4 -->\n",
       "<g id=\"edge4\" class=\"edge\"><title>3&#45;&gt;4</title>\n",
       "<path fill=\"none\" stroke=\"black\" d=\"M326.994,-296.884C306.252,-286.856 283.325,-275.773 262.035,-265.482\"/>\n",
       "<polygon fill=\"black\" stroke=\"black\" points=\"263.549,-262.326 253.023,-261.125 260.503,-268.628 263.549,-262.326\"/>\n",
       "</g>\n",
       "<!-- 7 -->\n",
       "<g id=\"node8\" class=\"node\"><title>7</title>\n",
       "<polygon fill=\"none\" stroke=\"black\" points=\"473,-261 318,-261 318,-193 473,-193 473,-261\"/>\n",
       "<text text-anchor=\"middle\" x=\"395.5\" y=\"-245.8\" font-family=\"Times,serif\" font-size=\"14.00\">petal width (cm) &lt;= 1.55</text>\n",
       "<text text-anchor=\"middle\" x=\"395.5\" y=\"-230.8\" font-family=\"Times,serif\" font-size=\"14.00\">gini = 0.444</text>\n",
       "<text text-anchor=\"middle\" x=\"395.5\" y=\"-215.8\" font-family=\"Times,serif\" font-size=\"14.00\">samples = 6</text>\n",
       "<text text-anchor=\"middle\" x=\"395.5\" y=\"-200.8\" font-family=\"Times,serif\" font-size=\"14.00\">value = [0, 2, 4]</text>\n",
       "</g>\n",
       "<!-- 3&#45;&gt;7 -->\n",
       "<g id=\"edge7\" class=\"edge\"><title>3&#45;&gt;7</title>\n",
       "<path fill=\"none\" stroke=\"black\" d=\"M395.5,-296.884C395.5,-288.778 395.5,-279.982 395.5,-271.472\"/>\n",
       "<polygon fill=\"black\" stroke=\"black\" points=\"399,-271.299 395.5,-261.299 392,-271.299 399,-271.299\"/>\n",
       "</g>\n",
       "<!-- 5 -->\n",
       "<g id=\"node6\" class=\"node\"><title>5</title>\n",
       "<polygon fill=\"none\" stroke=\"black\" points=\"113,-149.5 0,-149.5 0,-96.5 113,-96.5 113,-149.5\"/>\n",
       "<text text-anchor=\"middle\" x=\"56.5\" y=\"-134.3\" font-family=\"Times,serif\" font-size=\"14.00\">gini = 0.0</text>\n",
       "<text text-anchor=\"middle\" x=\"56.5\" y=\"-119.3\" font-family=\"Times,serif\" font-size=\"14.00\">samples = 47</text>\n",
       "<text text-anchor=\"middle\" x=\"56.5\" y=\"-104.3\" font-family=\"Times,serif\" font-size=\"14.00\">value = [0, 47, 0]</text>\n",
       "</g>\n",
       "<!-- 4&#45;&gt;5 -->\n",
       "<g id=\"edge5\" class=\"edge\"><title>4&#45;&gt;5</title>\n",
       "<path fill=\"none\" stroke=\"black\" d=\"M142.942,-192.884C128.037,-181.006 111.272,-167.646 96.5013,-155.876\"/>\n",
       "<polygon fill=\"black\" stroke=\"black\" points=\"98.5269,-153.015 88.525,-149.52 94.1644,-158.489 98.5269,-153.015\"/>\n",
       "</g>\n",
       "<!-- 6 -->\n",
       "<g id=\"node7\" class=\"node\"><title>6</title>\n",
       "<polygon fill=\"none\" stroke=\"black\" points=\"237.5,-149.5 131.5,-149.5 131.5,-96.5 237.5,-96.5 237.5,-149.5\"/>\n",
       "<text text-anchor=\"middle\" x=\"184.5\" y=\"-134.3\" font-family=\"Times,serif\" font-size=\"14.00\">gini = 0.0</text>\n",
       "<text text-anchor=\"middle\" x=\"184.5\" y=\"-119.3\" font-family=\"Times,serif\" font-size=\"14.00\">samples = 1</text>\n",
       "<text text-anchor=\"middle\" x=\"184.5\" y=\"-104.3\" font-family=\"Times,serif\" font-size=\"14.00\">value = [0, 0, 1]</text>\n",
       "</g>\n",
       "<!-- 4&#45;&gt;6 -->\n",
       "<g id=\"edge6\" class=\"edge\"><title>4&#45;&gt;6</title>\n",
       "<path fill=\"none\" stroke=\"black\" d=\"M184.5,-192.884C184.5,-182.326 184.5,-170.597 184.5,-159.854\"/>\n",
       "<polygon fill=\"black\" stroke=\"black\" points=\"188,-159.52 184.5,-149.52 181,-159.52 188,-159.52\"/>\n",
       "</g>\n",
       "<!-- 8 -->\n",
       "<g id=\"node9\" class=\"node\"><title>8</title>\n",
       "<polygon fill=\"none\" stroke=\"black\" points=\"361.5,-149.5 255.5,-149.5 255.5,-96.5 361.5,-96.5 361.5,-149.5\"/>\n",
       "<text text-anchor=\"middle\" x=\"308.5\" y=\"-134.3\" font-family=\"Times,serif\" font-size=\"14.00\">gini = 0.0</text>\n",
       "<text text-anchor=\"middle\" x=\"308.5\" y=\"-119.3\" font-family=\"Times,serif\" font-size=\"14.00\">samples = 3</text>\n",
       "<text text-anchor=\"middle\" x=\"308.5\" y=\"-104.3\" font-family=\"Times,serif\" font-size=\"14.00\">value = [0, 0, 3]</text>\n",
       "</g>\n",
       "<!-- 7&#45;&gt;8 -->\n",
       "<g id=\"edge8\" class=\"edge\"><title>7&#45;&gt;8</title>\n",
       "<path fill=\"none\" stroke=\"black\" d=\"M367.254,-192.884C357.498,-181.446 346.57,-168.634 336.809,-157.19\"/>\n",
       "<polygon fill=\"black\" stroke=\"black\" points=\"339.419,-154.857 330.267,-149.52 334.094,-159.4 339.419,-154.857\"/>\n",
       "</g>\n",
       "<!-- 9 -->\n",
       "<g id=\"node10\" class=\"node\"><title>9</title>\n",
       "<polygon fill=\"none\" stroke=\"black\" points=\"537.5,-157 379.5,-157 379.5,-89 537.5,-89 537.5,-157\"/>\n",
       "<text text-anchor=\"middle\" x=\"458.5\" y=\"-141.8\" font-family=\"Times,serif\" font-size=\"14.00\">petal length (cm) &lt;= 5.45</text>\n",
       "<text text-anchor=\"middle\" x=\"458.5\" y=\"-126.8\" font-family=\"Times,serif\" font-size=\"14.00\">gini = 0.444</text>\n",
       "<text text-anchor=\"middle\" x=\"458.5\" y=\"-111.8\" font-family=\"Times,serif\" font-size=\"14.00\">samples = 3</text>\n",
       "<text text-anchor=\"middle\" x=\"458.5\" y=\"-96.8\" font-family=\"Times,serif\" font-size=\"14.00\">value = [0, 2, 1]</text>\n",
       "</g>\n",
       "<!-- 7&#45;&gt;9 -->\n",
       "<g id=\"edge9\" class=\"edge\"><title>7&#45;&gt;9</title>\n",
       "<path fill=\"none\" stroke=\"black\" d=\"M415.954,-192.884C421.236,-184.332 426.992,-175.013 432.514,-166.072\"/>\n",
       "<polygon fill=\"black\" stroke=\"black\" points=\"435.656,-167.647 437.933,-157.299 429.7,-163.968 435.656,-167.647\"/>\n",
       "</g>\n",
       "<!-- 10 -->\n",
       "<g id=\"node11\" class=\"node\"><title>10</title>\n",
       "<polygon fill=\"none\" stroke=\"black\" points=\"449.5,-53 343.5,-53 343.5,-0 449.5,-0 449.5,-53\"/>\n",
       "<text text-anchor=\"middle\" x=\"396.5\" y=\"-37.8\" font-family=\"Times,serif\" font-size=\"14.00\">gini = 0.0</text>\n",
       "<text text-anchor=\"middle\" x=\"396.5\" y=\"-22.8\" font-family=\"Times,serif\" font-size=\"14.00\">samples = 2</text>\n",
       "<text text-anchor=\"middle\" x=\"396.5\" y=\"-7.8\" font-family=\"Times,serif\" font-size=\"14.00\">value = [0, 2, 0]</text>\n",
       "</g>\n",
       "<!-- 9&#45;&gt;10 -->\n",
       "<g id=\"edge10\" class=\"edge\"><title>9&#45;&gt;10</title>\n",
       "<path fill=\"none\" stroke=\"black\" d=\"M436.815,-88.9485C431.054,-80.1664 424.819,-70.6629 419.014,-61.815\"/>\n",
       "<polygon fill=\"black\" stroke=\"black\" points=\"421.797,-59.6779 413.385,-53.2367 415.945,-63.5178 421.797,-59.6779\"/>\n",
       "</g>\n",
       "<!-- 11 -->\n",
       "<g id=\"node12\" class=\"node\"><title>11</title>\n",
       "<polygon fill=\"none\" stroke=\"black\" points=\"573.5,-53 467.5,-53 467.5,-0 573.5,-0 573.5,-53\"/>\n",
       "<text text-anchor=\"middle\" x=\"520.5\" y=\"-37.8\" font-family=\"Times,serif\" font-size=\"14.00\">gini = 0.0</text>\n",
       "<text text-anchor=\"middle\" x=\"520.5\" y=\"-22.8\" font-family=\"Times,serif\" font-size=\"14.00\">samples = 1</text>\n",
       "<text text-anchor=\"middle\" x=\"520.5\" y=\"-7.8\" font-family=\"Times,serif\" font-size=\"14.00\">value = [0, 0, 1]</text>\n",
       "</g>\n",
       "<!-- 9&#45;&gt;11 -->\n",
       "<g id=\"edge11\" class=\"edge\"><title>9&#45;&gt;11</title>\n",
       "<path fill=\"none\" stroke=\"black\" d=\"M480.185,-88.9485C485.946,-80.1664 492.181,-70.6629 497.986,-61.815\"/>\n",
       "<polygon fill=\"black\" stroke=\"black\" points=\"501.055,-63.5178 503.615,-53.2367 495.203,-59.6779 501.055,-63.5178\"/>\n",
       "</g>\n",
       "<!-- 13 -->\n",
       "<g id=\"node14\" class=\"node\"><title>13</title>\n",
       "<polygon fill=\"none\" stroke=\"black\" points=\"688.5,-261 528.5,-261 528.5,-193 688.5,-193 688.5,-261\"/>\n",
       "<text text-anchor=\"middle\" x=\"608.5\" y=\"-245.8\" font-family=\"Times,serif\" font-size=\"14.00\">sepal length (cm) &lt;= 5.95</text>\n",
       "<text text-anchor=\"middle\" x=\"608.5\" y=\"-230.8\" font-family=\"Times,serif\" font-size=\"14.00\">gini = 0.444</text>\n",
       "<text text-anchor=\"middle\" x=\"608.5\" y=\"-215.8\" font-family=\"Times,serif\" font-size=\"14.00\">samples = 3</text>\n",
       "<text text-anchor=\"middle\" x=\"608.5\" y=\"-200.8\" font-family=\"Times,serif\" font-size=\"14.00\">value = [0, 1, 2]</text>\n",
       "</g>\n",
       "<!-- 12&#45;&gt;13 -->\n",
       "<g id=\"edge13\" class=\"edge\"><title>12&#45;&gt;13</title>\n",
       "<path fill=\"none\" stroke=\"black\" d=\"M608.5,-296.884C608.5,-288.778 608.5,-279.982 608.5,-271.472\"/>\n",
       "<polygon fill=\"black\" stroke=\"black\" points=\"612,-271.299 608.5,-261.299 605,-271.299 612,-271.299\"/>\n",
       "</g>\n",
       "<!-- 16 -->\n",
       "<g id=\"node17\" class=\"node\"><title>16</title>\n",
       "<polygon fill=\"none\" stroke=\"black\" points=\"820,-253.5 707,-253.5 707,-200.5 820,-200.5 820,-253.5\"/>\n",
       "<text text-anchor=\"middle\" x=\"763.5\" y=\"-238.3\" font-family=\"Times,serif\" font-size=\"14.00\">gini = 0.0</text>\n",
       "<text text-anchor=\"middle\" x=\"763.5\" y=\"-223.3\" font-family=\"Times,serif\" font-size=\"14.00\">samples = 43</text>\n",
       "<text text-anchor=\"middle\" x=\"763.5\" y=\"-208.3\" font-family=\"Times,serif\" font-size=\"14.00\">value = [0, 0, 43]</text>\n",
       "</g>\n",
       "<!-- 12&#45;&gt;16 -->\n",
       "<g id=\"edge16\" class=\"edge\"><title>12&#45;&gt;16</title>\n",
       "<path fill=\"none\" stroke=\"black\" d=\"M658.824,-296.884C677.208,-284.786 697.927,-271.151 716.052,-259.224\"/>\n",
       "<polygon fill=\"black\" stroke=\"black\" points=\"718.29,-261.941 724.72,-253.52 714.442,-256.093 718.29,-261.941\"/>\n",
       "</g>\n",
       "<!-- 14 -->\n",
       "<g id=\"node15\" class=\"node\"><title>14</title>\n",
       "<polygon fill=\"none\" stroke=\"black\" points=\"661.5,-149.5 555.5,-149.5 555.5,-96.5 661.5,-96.5 661.5,-149.5\"/>\n",
       "<text text-anchor=\"middle\" x=\"608.5\" y=\"-134.3\" font-family=\"Times,serif\" font-size=\"14.00\">gini = 0.0</text>\n",
       "<text text-anchor=\"middle\" x=\"608.5\" y=\"-119.3\" font-family=\"Times,serif\" font-size=\"14.00\">samples = 1</text>\n",
       "<text text-anchor=\"middle\" x=\"608.5\" y=\"-104.3\" font-family=\"Times,serif\" font-size=\"14.00\">value = [0, 1, 0]</text>\n",
       "</g>\n",
       "<!-- 13&#45;&gt;14 -->\n",
       "<g id=\"edge14\" class=\"edge\"><title>13&#45;&gt;14</title>\n",
       "<path fill=\"none\" stroke=\"black\" d=\"M608.5,-192.884C608.5,-182.326 608.5,-170.597 608.5,-159.854\"/>\n",
       "<polygon fill=\"black\" stroke=\"black\" points=\"612,-159.52 608.5,-149.52 605,-159.52 612,-159.52\"/>\n",
       "</g>\n",
       "<!-- 15 -->\n",
       "<g id=\"node16\" class=\"node\"><title>15</title>\n",
       "<polygon fill=\"none\" stroke=\"black\" points=\"785.5,-149.5 679.5,-149.5 679.5,-96.5 785.5,-96.5 785.5,-149.5\"/>\n",
       "<text text-anchor=\"middle\" x=\"732.5\" y=\"-134.3\" font-family=\"Times,serif\" font-size=\"14.00\">gini = 0.0</text>\n",
       "<text text-anchor=\"middle\" x=\"732.5\" y=\"-119.3\" font-family=\"Times,serif\" font-size=\"14.00\">samples = 2</text>\n",
       "<text text-anchor=\"middle\" x=\"732.5\" y=\"-104.3\" font-family=\"Times,serif\" font-size=\"14.00\">value = [0, 0, 2]</text>\n",
       "</g>\n",
       "<!-- 13&#45;&gt;15 -->\n",
       "<g id=\"edge15\" class=\"edge\"><title>13&#45;&gt;15</title>\n",
       "<path fill=\"none\" stroke=\"black\" d=\"M648.759,-192.884C663.199,-181.006 679.44,-167.646 693.749,-155.876\"/>\n",
       "<polygon fill=\"black\" stroke=\"black\" points=\"695.976,-158.576 701.476,-149.52 691.529,-153.17 695.976,-158.576\"/>\n",
       "</g>\n",
       "</g>\n",
       "</svg>\n"
      ],
      "text/plain": [
       "<graphviz.files.Source at 0x7f71496f2a50>"
      ]
     },
     "execution_count": 33,
     "metadata": {},
     "output_type": "execute_result"
    }
   ],
   "source": [
    "import graphviz as gv\n",
    "import os\n",
    "\n",
    "def show_dot(filename):\n",
    "    f = open(filename, 'r')\n",
    "    dot = f.read()\n",
    "    return gv.Source(dot)\n",
    "    \n",
    "show_dot('/home/ruda/workspace/school/eksplo/list5/iris.dot')"
   ]
  },
  {
   "cell_type": "code",
   "execution_count": 39,
   "metadata": {},
   "outputs": [
    {
     "name": "stderr",
     "output_type": "stream",
     "text": [
      "/home/ruda/anaconda2/lib/python2.7/site-packages/ipykernel_launcher.py:9: FutureWarning: Categorical.from_array is deprecated, use Categorical instead\n",
      "  if __name__ == '__main__':\n",
      "/home/ruda/anaconda2/lib/python2.7/site-packages/ipykernel_launcher.py:10: FutureWarning: Categorical.from_array is deprecated, use Categorical instead\n",
      "  # Remove the CWD from sys.path while we load stuff.\n"
     ]
    }
   ],
   "source": [
    "# wczytanie zestawu danych z pliku\n",
    "titanic = pd.read_csv('/home/ruda/workspace/school/eksplo/list5/titanic.csv')\n",
    "\n",
    "# usunięcie z zestawu danych atrybutów nieistotnych dla klasyfikacji\n",
    "titanic = titanic.drop(['PassengerId', 'Name', 'Ticket', 'Cabin'], axis = 1)\n",
    "titanic = titanic.dropna()\n",
    "\n",
    "# zmiana kodowania atrybutów nominalnych w zestawie danych\n",
    "titanic['Sex'] = pd.Categorical.from_array(titanic['Sex']).codes\n",
    "titanic['Embarked'] = pd.Categorical.from_array(titanic['Embarked']).codes\n",
    "\n",
    "# rozbicie zestawu danych na dane opisujące pasażera (X) i etykietę klasy (y)\n",
    "titanic_y = titanic['Survived']\n",
    "titanic_X = titanic.drop('Survived', axis = 1)"
   ]
  },
  {
   "cell_type": "code",
   "execution_count": 83,
   "metadata": {
    "scrolled": true
   },
   "outputs": [
    {
     "name": "stdout",
     "output_type": "stream",
     "text": [
      "0.98595505618\n"
     ]
    }
   ],
   "source": [
    "# stworzenie drzewa klasyfikacyjnego\n",
    "titanic_gini = tree.DecisionTreeClassifier()\n",
    "titanic_gini = titanic_gini.fit(titanic_X, titanic_y)\n",
    "\n",
    "titanic_gini_file = \"/home/ruda/workspace/school/eksplo/list5/titanic_gini.dot\"\n",
    "with open(titanic_gini_file, \"w\") as f:\n",
    "    tree.export_graphviz(titanic_gini, out_file=f, feature_names=titanic_X.columns)\n",
    "    \n",
    "# ocena stworzonego klasyfikatora na danych uczących\n",
    "print(titanic_gini.score(titanic_X, titanic_y))\n",
    "\n",
    "# show_dot(titanic_gini_file)"
   ]
  },
  {
   "cell_type": "code",
   "execution_count": 84,
   "metadata": {},
   "outputs": [
    {
     "name": "stdout",
     "output_type": "stream",
     "text": [
      "0.98595505618\n"
     ]
    }
   ],
   "source": [
    "# stworzenie drzewa klasyfikacyjnego\n",
    "titanic_entropy = tree.DecisionTreeClassifier(criterion='entropy')\n",
    "titanic_entropy = titanic_entropy.fit(titanic_X, titanic_y)\n",
    "\n",
    "titanic_entropy_file = \"/home/ruda/workspace/school/eksplo/list5/titanic_entropy.dot\"\n",
    "with open(titanic_entropy_file, \"w\") as f:\n",
    "    tree.export_graphviz(titanic_entropy, out_file=f, feature_names=titanic_X.columns)\n",
    "    \n",
    "# ocena stworzonego klasyfikatora na danych uczących\n",
    "print(titanic_entropy.score(titanic_X, titanic_y))\n",
    "\n",
    "# show_dot(titanic_entropy_file)"
   ]
  },
  {
   "cell_type": "code",
   "execution_count": 85,
   "metadata": {},
   "outputs": [
    {
     "name": "stdout",
     "output_type": "stream",
     "text": [
      "0.764705882353\n"
     ]
    }
   ],
   "source": [
    "train_samples = len(titanic_X) * 2 / 3\n",
    "# stworzenie drzewa klasyfikacyjnego\n",
    "titanic_gini_train = tree.DecisionTreeClassifier()\n",
    "titanic_gini_train = titanic_gini_train.fit(titanic_X[:train_samples], titanic_y[:train_samples])\n",
    "\n",
    "titanic_gini_train_file = \"/home/ruda/workspace/school/eksplo/list5/titanic_gini_train.dot\"\n",
    "with open(titanic_gini_train_file, \"w\") as f:\n",
    "    tree.export_graphviz(titanic_gini_train, out_file=f, feature_names=titanic_X.columns)\n",
    "    \n",
    "# ocena stworzonego klasyfikatora na danych uczących\n",
    "print(titanic_gini_train.score(titanic_X[train_samples:], titanic_y[train_samples:]))\n",
    "\n",
    "# show_dot(titanic_gini_train_file)"
   ]
  },
  {
   "cell_type": "code",
   "execution_count": 99,
   "metadata": {},
   "outputs": [
    {
     "name": "stdout",
     "output_type": "stream",
     "text": [
      "0.836134453782\n"
     ]
    }
   ],
   "source": [
    "train_samples = len(titanic_X) * 2 / 3\n",
    "# stworzenie drzewa klasyfikacyjnego\n",
    "titanic_entropy_train = tree.DecisionTreeClassifier(criterion='entropy', max_depth=3)\n",
    "titanic_entropy_train = titanic_entropy_train.fit(titanic_X[:train_samples], titanic_y[:train_samples])\n",
    "\n",
    "titanic_entropy_train_file = \"/home/ruda/workspace/school/eksplo/list5/titanic_entropy_train.dot\"\n",
    "with open(titanic_entropy_train_file, \"w\") as f:\n",
    "    tree.export_graphviz(titanic_entropy_train, out_file=f, feature_names=titanic_X.columns)\n",
    "    \n",
    "# ocena stworzonego klasyfikatora na danych uczących\n",
    "print(titanic_entropy_train.score(titanic_X[train_samples:], titanic_y[train_samples:]))\n",
    "\n",
    "# show_dot(titanic_gini_train_file)"
   ]
  },
  {
   "cell_type": "code",
   "execution_count": 102,
   "metadata": {},
   "outputs": [
    {
     "name": "stdout",
     "output_type": "stream",
     "text": [
      "0.768907563025\n"
     ]
    },
    {
     "data": {
      "image/svg+xml": [
       "<?xml version=\"1.0\" encoding=\"UTF-8\" standalone=\"no\"?>\n",
       "<!DOCTYPE svg PUBLIC \"-//W3C//DTD SVG 1.1//EN\"\n",
       " \"http://www.w3.org/Graphics/SVG/1.1/DTD/svg11.dtd\">\n",
       "<!-- Generated by graphviz version 2.38.0 (20140413.2041)\n",
       " -->\n",
       "<!-- Title: Tree Pages: 1 -->\n",
       "<svg width=\"250pt\" height=\"165pt\"\n",
       " viewBox=\"0.00 0.00 250.00 165.00\" xmlns=\"http://www.w3.org/2000/svg\" xmlns:xlink=\"http://www.w3.org/1999/xlink\">\n",
       "<g id=\"graph0\" class=\"graph\" transform=\"scale(1 1) rotate(0) translate(4 161)\">\n",
       "<title>Tree</title>\n",
       "<polygon fill=\"white\" stroke=\"none\" points=\"-4,4 -4,-161 246,-161 246,4 -4,4\"/>\n",
       "<!-- 0 -->\n",
       "<g id=\"node1\" class=\"node\"><title>0</title>\n",
       "<polygon fill=\"none\" stroke=\"black\" points=\"180.5,-157 61.5,-157 61.5,-89 180.5,-89 180.5,-157\"/>\n",
       "<text text-anchor=\"middle\" x=\"121\" y=\"-141.8\" font-family=\"Times,serif\" font-size=\"14.00\">Sex &lt;= 0.5</text>\n",
       "<text text-anchor=\"middle\" x=\"121\" y=\"-126.8\" font-family=\"Times,serif\" font-size=\"14.00\">gini = 0.485</text>\n",
       "<text text-anchor=\"middle\" x=\"121\" y=\"-111.8\" font-family=\"Times,serif\" font-size=\"14.00\">samples = 474</text>\n",
       "<text text-anchor=\"middle\" x=\"121\" y=\"-96.8\" font-family=\"Times,serif\" font-size=\"14.00\">value = [278, 196]</text>\n",
       "</g>\n",
       "<!-- 1 -->\n",
       "<g id=\"node2\" class=\"node\"><title>1</title>\n",
       "<polygon fill=\"none\" stroke=\"black\" points=\"112,-53 0,-53 0,-0 112,-0 112,-53\"/>\n",
       "<text text-anchor=\"middle\" x=\"56\" y=\"-37.8\" font-family=\"Times,serif\" font-size=\"14.00\">gini = 0.364</text>\n",
       "<text text-anchor=\"middle\" x=\"56\" y=\"-22.8\" font-family=\"Times,serif\" font-size=\"14.00\">samples = 180</text>\n",
       "<text text-anchor=\"middle\" x=\"56\" y=\"-7.8\" font-family=\"Times,serif\" font-size=\"14.00\">value = [43, 137]</text>\n",
       "</g>\n",
       "<!-- 0&#45;&gt;1 -->\n",
       "<g id=\"edge1\" class=\"edge\"><title>0&#45;&gt;1</title>\n",
       "<path fill=\"none\" stroke=\"black\" d=\"M98.2662,-88.9485C92.1626,-80.0749 85.5525,-70.4648 79.4129,-61.5388\"/>\n",
       "<polygon fill=\"black\" stroke=\"black\" points=\"82.2534,-59.4924 73.7025,-53.2367 76.486,-63.4594 82.2534,-59.4924\"/>\n",
       "<text text-anchor=\"middle\" x=\"69.1558\" y=\"-74.1198\" font-family=\"Times,serif\" font-size=\"14.00\">True</text>\n",
       "</g>\n",
       "<!-- 2 -->\n",
       "<g id=\"node3\" class=\"node\"><title>2</title>\n",
       "<polygon fill=\"none\" stroke=\"black\" points=\"242,-53 130,-53 130,-0 242,-0 242,-53\"/>\n",
       "<text text-anchor=\"middle\" x=\"186\" y=\"-37.8\" font-family=\"Times,serif\" font-size=\"14.00\">gini = 0.321</text>\n",
       "<text text-anchor=\"middle\" x=\"186\" y=\"-22.8\" font-family=\"Times,serif\" font-size=\"14.00\">samples = 294</text>\n",
       "<text text-anchor=\"middle\" x=\"186\" y=\"-7.8\" font-family=\"Times,serif\" font-size=\"14.00\">value = [235, 59]</text>\n",
       "</g>\n",
       "<!-- 0&#45;&gt;2 -->\n",
       "<g id=\"edge2\" class=\"edge\"><title>0&#45;&gt;2</title>\n",
       "<path fill=\"none\" stroke=\"black\" d=\"M143.734,-88.9485C149.837,-80.0749 156.447,-70.4648 162.587,-61.5388\"/>\n",
       "<polygon fill=\"black\" stroke=\"black\" points=\"165.514,-63.4594 168.298,-53.2367 159.747,-59.4924 165.514,-63.4594\"/>\n",
       "<text text-anchor=\"middle\" x=\"172.844\" y=\"-74.1198\" font-family=\"Times,serif\" font-size=\"14.00\">False</text>\n",
       "</g>\n",
       "</g>\n",
       "</svg>\n"
      ],
      "text/plain": [
       "<graphviz.files.Source at 0x7f713f27cfd0>"
      ]
     },
     "execution_count": 102,
     "metadata": {},
     "output_type": "execute_result"
    }
   ],
   "source": [
    "train_samples = len(titanic_X) * 2 / 3\n",
    "# stworzenie drzewa klasyfikacyjnego\n",
    "titanic_gini_train1 = tree.DecisionTreeClassifier(max_depth = 1)\n",
    "titanic_gini_train1 = titanic_gini_train1.fit(titanic_X[:train_samples], titanic_y[:train_samples])\n",
    "\n",
    "titanic_gini_train_file1 = \"/home/ruda/workspace/school/eksplo/list5/titanic_gini_train1.dot\"\n",
    "with open(titanic_gini_train_file1, \"w\") as f:\n",
    "    tree.export_graphviz(titanic_gini_train1, out_file=f, feature_names=titanic_X.columns)\n",
    "    \n",
    "# ocena stworzonego klasyfikatora na danych uczących\n",
    "print(titanic_gini_train1.score(titanic_X[train_samples:], titanic_y[train_samples:]))\n",
    "\n",
    "show_dot(titanic_gini_train_file1)"
   ]
  },
  {
   "cell_type": "code",
   "execution_count": 120,
   "metadata": {},
   "outputs": [
    {
     "name": "stdout",
     "output_type": "stream",
     "text": [
      "Max depth: 1, score: 0.768907563025\n",
      "Max depth: 2, score: 0.806722689076\n",
      "Max depth: 3, score: 0.836134453782\n",
      "Max depth: 4, score: 0.819327731092\n",
      "Max depth: 5, score: 0.81512605042\n"
     ]
    }
   ],
   "source": [
    "train_samples = len(titanic_X) * 2 / 3\n",
    "\n",
    "# show_dot(titanic_entropy_train_file1)\n",
    "for i in np.arange(1, 6):\n",
    "    titanic_gini = tree.DecisionTreeClassifier(criterion='gini', max_depth=i)\n",
    "    titanic_gini = titanic_gini.fit(titanic_X[:train_samples], titanic_y[:train_samples])\n",
    "\n",
    "    titanic_gini_file = \"/home/ruda/workspace/school/eksplo/list5/titanic_gini.dot\"\n",
    "    with open(titanic_gini_file, \"w\") as f:\n",
    "        tree.export_graphviz(titanic_gini, out_file=f, feature_names=titanic_X.columns)\n",
    "\n",
    "    # ocena stworzonego klasyfikatora na danych uczących\n",
    "    score = titanic_gini.score(titanic_X[train_samples:], titanic_y[train_samples:])\n",
    "    print('Max depth: {}, score: {}'.format(i, score))"
   ]
  },
  {
   "cell_type": "code",
   "execution_count": 112,
   "metadata": {},
   "outputs": [
    {
     "name": "stdout",
     "output_type": "stream",
     "text": [
      "Max depth: 1, score: 0.768907563025\n",
      "Max depth: 2, score: 0.806722689076\n",
      "Max depth: 3, score: 0.836134453782\n",
      "Max depth: 4, score: 0.806722689076\n",
      "Max depth: 5, score: 0.802521008403\n"
     ]
    }
   ],
   "source": [
    "train_samples = len(titanic_X) * 2 / 3\n",
    "\n",
    "# show_dot(titanic_entropy_train_file1)\n",
    "for i in np.arange(1, 6):\n",
    "    titanic_entropy_train1 = tree.DecisionTreeClassifier(criterion='entropy', max_depth=i)\n",
    "    titanic_entropy_train1 = titanic_entropy_train1.fit(titanic_X[:train_samples], titanic_y[:train_samples])\n",
    "\n",
    "    titanic_entropy_train_file1 = \"/home/ruda/workspace/school/eksplo/list5/titanic_entropy_train1.dot\"\n",
    "    with open(titanic_entropy_train_file1, \"w\") as f:\n",
    "        tree.export_graphviz(titanic_entropy_train1, out_file=f, feature_names=titanic_X.columns)\n",
    "\n",
    "    # ocena stworzonego klasyfikatora na danych uczących\n",
    "    score = titanic_entropy_train1.score(titanic_X[train_samples:], titanic_y[train_samples:])\n",
    "    print('Max depth: {}, score: {}'.format(i, score))"
   ]
  },
  {
   "cell_type": "markdown",
   "metadata": {},
   "source": [
    "## Zadanie 2"
   ]
  },
  {
   "cell_type": "code",
   "execution_count": null,
   "metadata": {
    "collapsed": true
   },
   "outputs": [],
   "source": []
  }
 ],
 "metadata": {
  "kernelspec": {
   "display_name": "Python 2",
   "language": "python",
   "name": "python2"
  },
  "language_info": {
   "codemirror_mode": {
    "name": "ipython",
    "version": 2
   },
   "file_extension": ".py",
   "mimetype": "text/x-python",
   "name": "python",
   "nbconvert_exporter": "python",
   "pygments_lexer": "ipython2",
   "version": "2.7.11"
  }
 },
 "nbformat": 4,
 "nbformat_minor": 2
}
